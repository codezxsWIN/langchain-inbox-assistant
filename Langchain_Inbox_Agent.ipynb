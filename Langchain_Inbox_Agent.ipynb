{
 "cells": [
  {
   "cell_type": "code",
   "execution_count": null,
   "metadata": {
    "colab": {
     "base_uri": "https://localhost:8080/",
     "height": 73
    },
    "id": "6-Pw37W55jOc",
    "outputId": "3ee7ce7d-4cb7-40e0-ce28-1390d36f2d40"
   },
   "outputs": [],
   "source": [
    "#ensure your json files are present.\n",
    "import os\n",
    "print(os.listdir())\n"
   ]
  },
  {
   "cell_type": "code",
   "execution_count": null,
   "metadata": {
    "colab": {
     "base_uri": "https://localhost:8080/",
     "height": 73
    },
    "id": "pmkZgc8ljPLY",
    "outputId": "25189e84-8182-424d-fd3a-f03d97f12084"
   },
   "outputs": [],
   "source": [
    "from google.colab import files\n",
    "\n",
    "uploaded = files.upload()\n"
   ]
  },
  {
   "cell_type": "code",
   "execution_count": null,
   "metadata": {
    "colab": {
     "base_uri": "https://localhost:8080/"
    },
    "id": "qlAOcNgLgzMh",
    "outputId": "b328148d-d994-434e-9a3d-32ab6eda6dd4"
   },
   "outputs": [],
   "source": [
    "#Initial Installiations\n",
    "!pip install gspread oauth2client --quiet\n",
    "!pip install -U langchain-openai --quiet\n",
    "!pip install --upgrade google-api-python-client google-auth-httplib2 google-auth-oauthlib --quiet\n",
    "!pip install --upgrade google-auth google-auth-oauthlib google-api-python-client\n"
   ]
  },
  {
   "cell_type": "code",
   "execution_count": null,
   "metadata": {
    "id": "upuwMNFEgQhn"
   },
   "outputs": [],
   "source": [
    "#Imports\n",
    "import gspread\n",
    "from oauth2client.service_account import ServiceAccountCredentials\n",
    "from langchain_core.tools import tool\n",
    "from langchain_core.messages import HumanMessage, AIMessage\n",
    "from langchain_core.prompts import ChatPromptTemplate, MessagesPlaceholder\n",
    "from langchain_core.runnables.base import RunnableSerializable\n",
    "from langchain_openai import ChatOpenAI\n",
    "import os\n",
    "import json\n",
    "from typing import List, Dict\n",
    "from getpass import getpass\n",
    "from datetime import datetime\n",
    "from google.oauth2.credentials import Credentials\n",
    "from googleapiclient.discovery import build\n",
    "from google_auth_oauthlib.flow import InstalledAppFlow\n",
    "from google.auth.transport.requests import Request\n",
    "import base64\n"
   ]
  },
  {
   "cell_type": "code",
   "execution_count": null,
   "metadata": {
    "colab": {
     "base_uri": "https://localhost:8080/"
    },
    "id": "y9H4CyVhomWx",
    "outputId": "e106ca96-90e9-4f3a-8860-486ac8e9448f"
   },
   "outputs": [],
   "source": [
    "# STEP 2: Set OpenRouter API Key\n",
    "os.environ[\"OPENAI_API_KEY\"] = getpass(\"Enter your OpenRouter API Key: \")\n",
    "\n",
    "# STEP 3: Load OpenRouter model (Mistral via OpenRouter)\n",
    "llm = ChatOpenAI(\n",
    "    model=\"mistralai/mistral-7b-instruct\",\n",
    "    openai_api_base=\"https://openrouter.ai/api/v1\",\n",
    "    openai_api_key=os.environ[\"OPENAI_API_KEY\"],\n",
    "    temperature=0.5,\n",
    ")"
   ]
  },
  {
   "cell_type": "code",
   "execution_count": null,
   "metadata": {
    "colab": {
     "base_uri": "https://localhost:8080/"
    },
    "id": "HXaFGOUdj1Jz",
    "outputId": "f5a4229e-ded5-45e1-b9e0-119607331e73"
   },
   "outputs": [],
   "source": [
    "#GOOGLE SHEETS INTEGRATION\n",
    "import gspread\n",
    "from oauth2client.service_account import ServiceAccountCredentials\n",
    "\n",
    "# 1. Define scopes\n",
    "scope = [\n",
    "    \"https://spreadsheets.google.com/feeds\",\n",
    "    \"https://www.googleapis.com/auth/drive\"\n",
    "]\n",
    "\n",
    "# 2. Load credentials\n",
    "creds = ServiceAccountCredentials.from_json_keyfile_name(\n",
    "    \"projectemailsorter-62df267deeed.json\", scope\n",
    ")\n",
    "\n",
    "# 3. Authorize client\n",
    "client = gspread.authorize(creds)\n",
    "\n",
    "# 4. Try to list available spreadsheets to verify access\n",
    "sheets = client.openall()\n",
    "print(\"✅ Accessible Sheets:\")\n",
    "for sheet in sheets:\n",
    "    print(\"-\", sheet.title)\n",
    "    \n",
    "sheet = client.open(\"LangChain\").sheet1\n",
    "sheet.update(\"A1\", [[\"✅ Connected successfully!\"]])\n",
    "print(\"🎉 Sheet updated!\")\n"
   ]
  },
  {
   "cell_type": "code",
   "execution_count": null,
   "metadata": {
    "id": "BxLQOm8fogVE"
   },
   "outputs": [],
   "source": [
    "SCOPES = ['https://www.googleapis.com/auth/gmail.readonly']\n",
    "\n",
    "def authenticate_gmail():\n",
    "    from google_auth_oauthlib.flow import InstalledAppFlow\n",
    "    from google.auth.transport.requests import Request\n",
    "    from googleapiclient.discovery import build\n",
    "    from google.oauth2.credentials import Credentials\n",
    "    import os\n",
    "\n",
    "    SCOPES = ['https://www.googleapis.com/auth/gmail.readonly']\n",
    "    creds = None\n",
    "\n",
    "    # Load saved credentials if available\n",
    "    if os.path.exists('token.json'):\n",
    "        creds = Credentials.from_authorized_user_file('token.json', SCOPES)\n",
    "\n",
    "    # If not valid, trigger authentication\n",
    "    if not creds or not creds.valid:\n",
    "        if creds and creds.expired and creds.refresh_token:\n",
    "            creds.refresh(Request())\n",
    "        else:\n",
    "            \n",
    "            flow = InstalledAppFlow.from_client_secrets_file('client_secret2.json', SCOPES)\n",
    "            creds = flow.run_local_server(port=0)  \n",
    "\n",
    "        # Save credentials for next time\n",
    "        with open('token.json', 'w') as token:\n",
    "            token.write(creds.to_json())\n",
    "\n",
    "    return build('gmail', 'v1', credentials=creds)\n",
    "\n",
    "def get_unread_emails(service, max_results=5):\n",
    "    results = service.users().messages().list(userId='me', labelIds=['INBOX'], q=\"is:unread\", maxResults=max_results).execute()\n",
    "    messages = results.get('messages', [])\n",
    "    emails = []\n",
    "\n",
    "    for msg in messages:\n",
    "        msg_data = service.users().messages().get(userId='me', id=msg['id']).execute()\n",
    "        headers = msg_data['payload']['headers']\n",
    "        subject = next((h['value'] for h in headers if h['name'] == 'Subject'), '(No Subject)')\n",
    "        body = \"\"\n",
    "\n",
    "        if 'parts' in msg_data['payload']:\n",
    "            for part in msg_data['payload']['parts']:\n",
    "                if part['mimeType'] == 'text/plain' and 'data' in part['body']:\n",
    "                    body = base64.urlsafe_b64decode(part['body']['data']).decode('utf-8')\n",
    "                    break\n",
    "\n",
    "        emails.append({\"subject\": subject, \"body\": body.strip()})\n",
    "\n",
    "    return emails\n",
    "\n",
    "\n",
    "# 🔍 Step 4: LangChain Tool + Prompt\n",
    "@tool\n",
    "def parse_user_request(text: str) -> dict:\n",
    "    \"\"\"Classify a user query into structured metadata (summary, type, is_junk).\"\"\"\n",
    "    text = text.lower()\n",
    "    if \"refund\" in text or \"replace\" in text:\n",
    "        return {\"summary\": \"Request for refund or replacement.\", \"type\": \"refund_request\", \"is_junk\": False}\n",
    "    elif \"hello\" in text or \"test\" in text:\n",
    "        return {\"summary\": \"Greeting or test message.\", \"type\": \"test\", \"is_junk\": True}\n",
    "    elif not text.strip():\n",
    "        return {\"summary\": \"Empty input.\", \"type\": \"unknown\", \"is_junk\": True}\n",
    "    else:\n",
    "        return {\"summary\": \"Unclassified request.\", \"type\": \"unknown\", \"is_junk\": True}\n",
    "\n",
    "\n",
    "prompt = ChatPromptTemplate.from_messages([\n",
    "    (\"system\", \"You are a helpful assistant classifying customer support queries.\"),\n",
    "    MessagesPlaceholder(variable_name=\"chat_history\"),\n",
    "    (\"human\", \"{input}\"),\n",
    "    MessagesPlaceholder(variable_name=\"agent_scratchpad\"),\n",
    "])\n",
    "\n",
    "agent: RunnableSerializable = (\n",
    "    {\n",
    "        \"input\": lambda x: x[\"input\"],\n",
    "        \"chat_history\": lambda x: x[\"chat_history\"],\n",
    "        \"agent_scratchpad\": lambda x: x.get(\"agent_scratchpad\", [])\n",
    "    }\n",
    "    | prompt\n",
    "    | llm\n",
    ")\n",
    "\n",
    "# 📝 Step 5: Sheet Logger\n",
    "def log_to_sheet(data: Dict):\n",
    "    now = datetime.now().strftime(\"%Y-%m-%d %H:%M:%S\")\n",
    "    sheet.append_row([\n",
    "        now,\n",
    "        data.get(\"input\", \"\"),\n",
    "        data.get(\"summary\", \"\"),\n",
    "        data.get(\"type\", \"\"),\n",
    "        \"Yes\" if data.get(\"is_junk\") else \"No\"\n",
    "    ])\n",
    "\n",
    "\n",
    "# 🤖 Step 6: Agent Executor\n",
    "class SupportAgentExecutor:\n",
    "    def __init__(self):\n",
    "        self.chat_history = []\n",
    "        self.agent = agent  # agent must be your LangChain RunnableSerializable\n",
    "\n",
    "    def invoke(self, user_input: str) -> dict:\n",
    "        print(\"⏳ Asking LLM...\")\n",
    "        result = self.agent.invoke({\n",
    "            \"input\": user_input,\n",
    "            \"chat_history\": self.chat_history,\n",
    "            \"agent_scratchpad\": []\n",
    "        })\n",
    "\n",
    "        self.chat_history.extend([\n",
    "            HumanMessage(content=user_input),\n",
    "            AIMessage(content=result.content)\n",
    "        ])\n",
    "\n",
    "        print(\"⏳ Parsing user input...\")\n",
    "        parsed = parse_user_request.invoke(result.content)\n",
    "\n",
    "        # log_to_sheet must be defined\n",
    "        log_to_sheet({\n",
    "            \"input\": user_input,\n",
    "            \"summary\": parsed[\"summary\"],\n",
    "            \"type\": parsed[\"type\"],\n",
    "            \"is_junk\": parsed[\"is_junk\"]\n",
    "        })\n",
    "\n",
    "        return parsed\n",
    "\n",
    "# ✅ Create the executor instance\n",
    "executor = SupportAgentExecutor()\n",
    "\n"
   ]
  },
  {
   "cell_type": "code",
   "execution_count": null,
   "metadata": {
    "colab": {
     "base_uri": "https://localhost:8080/",
     "height": 356
    },
    "id": "N0cKZMYN22p0",
    "outputId": "4eb9d6fc-45f1-42cf-9e36-007c934598c2"
   },
   "outputs": [],
   "source": [
    "gmail_service = authenticate_gmail()\n",
    "labels = gmail_service.users().labels().list(userId='me').execute()\n",
    "print(\"📬 Gmail Labels:\")\n",
    "for label in labels['labels']:\n",
    "    print(\"-\", label['name'])\n"
   ]
  },
  {
   "cell_type": "code",
   "execution_count": null,
   "metadata": {},
   "outputs": [],
   "source": [
    "emails = gmail_service.users().messages().list(\n",
    "    userId='me',\n",
    "    labelIds=['INBOX'],\n",
    "    q='is:unread',\n",
    "    maxResults=5\n",
    ").execute()\n",
    "\n",
    "messages = emails.get('messages', [])\n",
    "\n",
    "print(f\"📨 Unread Messages: {len(messages)}\")\n",
    "\n",
    "for msg in messages:\n",
    "    msg_data = gmail_service.users().messages().get(userId='me', id=msg['id']).execute()\n",
    "    headers = msg_data['payload']['headers']\n",
    "    subject = next((h['value'] for h in headers if h['name'] == 'Subject'), '(No Subject)')\n",
    "    print(\"🧾 Subject:\", subject)"
   ]
  },
  {
   "cell_type": "code",
   "execution_count": null,
   "metadata": {},
   "outputs": [],
   "source": [
    "from base64 import urlsafe_b64decode\n",
    "\n",
    "emails = gmail_service.users().messages().list(\n",
    "    userId='me',\n",
    "    labelIds=['INBOX'],\n",
    "    q='is:unread',\n",
    "    maxResults=5\n",
    ").execute()\n",
    "\n",
    "messages = emails.get('messages', [])\n",
    "print(f\"📨 Unread Messages: {len(messages)}\")\n",
    "\n",
    "for msg in messages:\n",
    "    msg_data = gmail_service.users().messages().get(userId='me', id=msg['id']).execute()\n",
    "    headers = msg_data['payload']['headers']\n",
    "    subject = next((h['value'] for h in headers if h['name'] == 'Subject'), '(No Subject)')\n",
    "\n",
    "    # Get plain text body\n",
    "    parts = msg_data['payload'].get('parts', [])\n",
    "    body = \"\"\n",
    "    for part in parts:\n",
    "        if part['mimeType'] == 'text/plain' and 'data' in part['body']:\n",
    "            body = urlsafe_b64decode(part['body']['data']).decode('utf-8')\n",
    "            break\n",
    "\n",
    "    print(f\"\\n📬 Subject: {subject}\")\n",
    "    print(\"🧠 Classifying...\")\n",
    "\n",
    "    # Run through your AI agent\n",
    "    result = executor.invoke(body)\n",
    "\n",
    "    print(\"✅ Classified:\", result)\n"
   ]
  },
  {
   "cell_type": "code",
   "execution_count": null,
   "metadata": {},
   "outputs": [],
   "source": []
  }
 ],
 "metadata": {
  "colab": {
   "provenance": []
  },
  "kernelspec": {
   "display_name": "Python 3 (ipykernel)",
   "language": "python",
   "name": "python3"
  },
  "language_info": {
   "codemirror_mode": {
    "name": "ipython",
    "version": 3
   },
   "file_extension": ".py",
   "mimetype": "text/x-python",
   "name": "python",
   "nbconvert_exporter": "python",
   "pygments_lexer": "ipython3",
   "version": "3.11.11"
  }
 },
 "nbformat": 4,
 "nbformat_minor": 1
}
